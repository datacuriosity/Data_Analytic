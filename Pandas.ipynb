{
 "cells": [
  {
   "cell_type": "code",
   "execution_count": null,
   "metadata": {},
   "outputs": [],
   "source": []
  },
  {
   "cell_type": "code",
   "execution_count": 19,
   "metadata": {},
   "outputs": [],
   "source": [
    "import pandas as pd\n",
    "import yfinance as yf"
   ]
  },
  {
   "cell_type": "code",
   "execution_count": 14,
   "metadata": {},
   "outputs": [],
   "source": [
    "series = pd.Series(['Truong', 'Hoang', 'An', 'Nguyen', 1, 2, 3, 4], \n",
    "                  index = [2, 3, 4, 5, 6, 7, 8, 9], name = 'example'# thay the so 0 )"
   ]
  },
  {
   "cell_type": "code",
   "execution_count": 15,
   "metadata": {},
   "outputs": [
    {
     "data": {
      "text/plain": [
       "2    Truong\n",
       "3     Hoang\n",
       "4        An\n",
       "5    Nguyen\n",
       "6         1\n",
       "7         2\n",
       "8         3\n",
       "9         4\n",
       "Name: example, dtype: object"
      ]
     },
     "execution_count": 15,
     "metadata": {},
     "output_type": "execute_result"
    }
   ],
   "source": [
    "series"
   ]
  },
  {
   "cell_type": "code",
   "execution_count": 10,
   "metadata": {},
   "outputs": [
    {
     "data": {
      "text/plain": [
       "pandas.core.series.Series"
      ]
     },
     "execution_count": 10,
     "metadata": {},
     "output_type": "execute_result"
    }
   ],
   "source": [
    "type(series)"
   ]
  },
  {
   "cell_type": "code",
   "execution_count": 16,
   "metadata": {},
   "outputs": [
    {
     "data": {
      "text/html": [
       "<div>\n",
       "<style scoped>\n",
       "    .dataframe tbody tr th:only-of-type {\n",
       "        vertical-align: middle;\n",
       "    }\n",
       "\n",
       "    .dataframe tbody tr th {\n",
       "        vertical-align: top;\n",
       "    }\n",
       "\n",
       "    .dataframe thead th {\n",
       "        text-align: right;\n",
       "    }\n",
       "</style>\n",
       "<table border=\"1\" class=\"dataframe\">\n",
       "  <thead>\n",
       "    <tr style=\"text-align: right;\">\n",
       "      <th></th>\n",
       "      <th>example</th>\n",
       "    </tr>\n",
       "  </thead>\n",
       "  <tbody>\n",
       "    <tr>\n",
       "      <th>2</th>\n",
       "      <td>Truong</td>\n",
       "    </tr>\n",
       "    <tr>\n",
       "      <th>3</th>\n",
       "      <td>Hoang</td>\n",
       "    </tr>\n",
       "    <tr>\n",
       "      <th>4</th>\n",
       "      <td>An</td>\n",
       "    </tr>\n",
       "    <tr>\n",
       "      <th>5</th>\n",
       "      <td>Nguyen</td>\n",
       "    </tr>\n",
       "    <tr>\n",
       "      <th>6</th>\n",
       "      <td>1</td>\n",
       "    </tr>\n",
       "    <tr>\n",
       "      <th>7</th>\n",
       "      <td>2</td>\n",
       "    </tr>\n",
       "    <tr>\n",
       "      <th>8</th>\n",
       "      <td>3</td>\n",
       "    </tr>\n",
       "    <tr>\n",
       "      <th>9</th>\n",
       "      <td>4</td>\n",
       "    </tr>\n",
       "  </tbody>\n",
       "</table>\n",
       "</div>"
      ],
      "text/plain": [
       "  example\n",
       "2  Truong\n",
       "3   Hoang\n",
       "4      An\n",
       "5  Nguyen\n",
       "6       1\n",
       "7       2\n",
       "8       3\n",
       "9       4"
      ]
     },
     "execution_count": 16,
     "metadata": {},
     "output_type": "execute_result"
    }
   ],
   "source": [
    "# chuyen series ve datafram\n",
    "series.to_frame()"
   ]
  },
  {
   "cell_type": "code",
   "execution_count": 17,
   "metadata": {},
   "outputs": [
    {
     "name": "stdout",
     "output_type": "stream",
     "text": [
      "Collecting yfinance\n",
      "  Downloading yfinance-0.1.55.tar.gz (23 kB)\n",
      "Requirement already satisfied: pandas>=0.24 in c:\\users\\dell\\anaconda3\\envs\\hoang\\lib\\site-packages (from yfinance) (1.1.3)\n",
      "Requirement already satisfied: numpy>=1.15 in c:\\users\\dell\\anaconda3\\envs\\hoang\\lib\\site-packages (from yfinance) (1.19.1)\n",
      "Requirement already satisfied: requests>=2.20 in c:\\users\\dell\\anaconda3\\envs\\hoang\\lib\\site-packages (from yfinance) (2.25.0)\n",
      "Collecting multitasking>=0.0.7\n",
      "  Downloading multitasking-0.0.9.tar.gz (8.1 kB)\n",
      "Collecting lxml>=4.5.1\n",
      "  Downloading lxml-4.6.2-cp36-cp36m-win_amd64.whl (3.5 MB)\n",
      "Requirement already satisfied: python-dateutil>=2.7.3 in c:\\users\\dell\\anaconda3\\envs\\hoang\\lib\\site-packages (from pandas>=0.24->yfinance) (2.8.1)\n",
      "Requirement already satisfied: pytz>=2017.2 in c:\\users\\dell\\anaconda3\\envs\\hoang\\lib\\site-packages (from pandas>=0.24->yfinance) (2020.1)\n",
      "Requirement already satisfied: idna<3,>=2.5 in c:\\users\\dell\\anaconda3\\envs\\hoang\\lib\\site-packages (from requests>=2.20->yfinance) (2.10)\n",
      "Requirement already satisfied: urllib3<1.27,>=1.21.1 in c:\\users\\dell\\anaconda3\\envs\\hoang\\lib\\site-packages (from requests>=2.20->yfinance) (1.25.11)\n",
      "Requirement already satisfied: certifi>=2017.4.17 in c:\\users\\dell\\anaconda3\\envs\\hoang\\lib\\site-packages (from requests>=2.20->yfinance) (2020.11.8)\n",
      "Requirement already satisfied: chardet<4,>=3.0.2 in c:\\users\\dell\\anaconda3\\envs\\hoang\\lib\\site-packages (from requests>=2.20->yfinance) (3.0.4)\n",
      "Requirement already satisfied: six>=1.5 in c:\\users\\dell\\anaconda3\\envs\\hoang\\lib\\site-packages (from python-dateutil>=2.7.3->pandas>=0.24->yfinance) (1.15.0)\n",
      "Building wheels for collected packages: yfinance, multitasking\n",
      "  Building wheel for yfinance (setup.py): started\n",
      "  Building wheel for yfinance (setup.py): finished with status 'done'\n",
      "  Created wheel for yfinance: filename=yfinance-0.1.55-py2.py3-none-any.whl size=22622 sha256=85cc3277c24f9f3b7401946706e08753e40a75b84bbd1cc6104eb6ccf726479e\n",
      "  Stored in directory: c:\\users\\dell\\appdata\\local\\pip\\cache\\wheels\\68\\72\\87\\a384b8b8139f2489024464d6f5937e6acb2054c57d25519fb9\n",
      "  Building wheel for multitasking (setup.py): started\n",
      "  Building wheel for multitasking (setup.py): finished with status 'done'\n",
      "  Created wheel for multitasking: filename=multitasking-0.0.9-py3-none-any.whl size=8372 sha256=7a56f61541383083cf65e91470c0220ffdc246a15ac75ee45a82588fa015a3a1\n",
      "  Stored in directory: c:\\users\\dell\\appdata\\local\\pip\\cache\\wheels\\5e\\8a\\c4\\59c699498647c7c94b14c87a904ca7540646107b3d94b7c320\n",
      "Successfully built yfinance multitasking\n",
      "Installing collected packages: multitasking, lxml, yfinance\n",
      "Successfully installed lxml-4.6.2 multitasking-0.0.9 yfinance-0.1.55\n"
     ]
    }
   ],
   "source": [
    "!pip install yfinance"
   ]
  },
  {
   "cell_type": "code",
   "execution_count": 22,
   "metadata": {},
   "outputs": [
    {
     "data": {
      "text/html": [
       "<div>\n",
       "<style scoped>\n",
       "    .dataframe tbody tr th:only-of-type {\n",
       "        vertical-align: middle;\n",
       "    }\n",
       "\n",
       "    .dataframe tbody tr th {\n",
       "        vertical-align: top;\n",
       "    }\n",
       "\n",
       "    .dataframe thead th {\n",
       "        text-align: right;\n",
       "    }\n",
       "</style>\n",
       "<table border=\"1\" class=\"dataframe\">\n",
       "  <thead>\n",
       "    <tr style=\"text-align: right;\">\n",
       "      <th></th>\n",
       "      <th>Open</th>\n",
       "      <th>High</th>\n",
       "      <th>Low</th>\n",
       "      <th>Close</th>\n",
       "      <th>Adj Close</th>\n",
       "      <th>Volume</th>\n",
       "    </tr>\n",
       "    <tr>\n",
       "      <th>Date</th>\n",
       "      <th></th>\n",
       "      <th></th>\n",
       "      <th></th>\n",
       "      <th></th>\n",
       "      <th></th>\n",
       "      <th></th>\n",
       "    </tr>\n",
       "  </thead>\n",
       "  <tbody>\n",
       "    <tr>\n",
       "      <th>2009-12-31</th>\n",
       "      <td>7.611786</td>\n",
       "      <td>7.619643</td>\n",
       "      <td>7.520000</td>\n",
       "      <td>7.526072</td>\n",
       "      <td>6.492372</td>\n",
       "      <td>352410800</td>\n",
       "    </tr>\n",
       "    <tr>\n",
       "      <th>2010-01-04</th>\n",
       "      <td>7.622500</td>\n",
       "      <td>7.660714</td>\n",
       "      <td>7.585000</td>\n",
       "      <td>7.643214</td>\n",
       "      <td>6.593426</td>\n",
       "      <td>493729600</td>\n",
       "    </tr>\n",
       "    <tr>\n",
       "      <th>2010-01-05</th>\n",
       "      <td>7.664286</td>\n",
       "      <td>7.699643</td>\n",
       "      <td>7.616071</td>\n",
       "      <td>7.656428</td>\n",
       "      <td>6.604825</td>\n",
       "      <td>601904800</td>\n",
       "    </tr>\n",
       "    <tr>\n",
       "      <th>2010-01-06</th>\n",
       "      <td>7.656428</td>\n",
       "      <td>7.686786</td>\n",
       "      <td>7.526786</td>\n",
       "      <td>7.534643</td>\n",
       "      <td>6.499768</td>\n",
       "      <td>552160000</td>\n",
       "    </tr>\n",
       "    <tr>\n",
       "      <th>2010-01-07</th>\n",
       "      <td>7.562500</td>\n",
       "      <td>7.571429</td>\n",
       "      <td>7.466072</td>\n",
       "      <td>7.520714</td>\n",
       "      <td>6.487752</td>\n",
       "      <td>477131200</td>\n",
       "    </tr>\n",
       "    <tr>\n",
       "      <th>...</th>\n",
       "      <td>...</td>\n",
       "      <td>...</td>\n",
       "      <td>...</td>\n",
       "      <td>...</td>\n",
       "      <td>...</td>\n",
       "      <td>...</td>\n",
       "    </tr>\n",
       "    <tr>\n",
       "      <th>2020-12-16</th>\n",
       "      <td>127.410004</td>\n",
       "      <td>128.369995</td>\n",
       "      <td>126.559998</td>\n",
       "      <td>127.809998</td>\n",
       "      <td>127.809998</td>\n",
       "      <td>98208600</td>\n",
       "    </tr>\n",
       "    <tr>\n",
       "      <th>2020-12-17</th>\n",
       "      <td>128.899994</td>\n",
       "      <td>129.580002</td>\n",
       "      <td>128.039993</td>\n",
       "      <td>128.699997</td>\n",
       "      <td>128.699997</td>\n",
       "      <td>94359800</td>\n",
       "    </tr>\n",
       "    <tr>\n",
       "      <th>2020-12-18</th>\n",
       "      <td>128.960007</td>\n",
       "      <td>129.100006</td>\n",
       "      <td>126.120003</td>\n",
       "      <td>126.660004</td>\n",
       "      <td>126.660004</td>\n",
       "      <td>192541500</td>\n",
       "    </tr>\n",
       "    <tr>\n",
       "      <th>2020-12-21</th>\n",
       "      <td>125.019997</td>\n",
       "      <td>128.309998</td>\n",
       "      <td>123.449997</td>\n",
       "      <td>128.229996</td>\n",
       "      <td>128.229996</td>\n",
       "      <td>121251600</td>\n",
       "    </tr>\n",
       "    <tr>\n",
       "      <th>2020-12-22</th>\n",
       "      <td>131.610001</td>\n",
       "      <td>134.410004</td>\n",
       "      <td>129.649994</td>\n",
       "      <td>131.880005</td>\n",
       "      <td>131.880005</td>\n",
       "      <td>168904800</td>\n",
       "    </tr>\n",
       "  </tbody>\n",
       "</table>\n",
       "<p>2764 rows × 6 columns</p>\n",
       "</div>"
      ],
      "text/plain": [
       "                  Open        High         Low       Close   Adj Close  \\\n",
       "Date                                                                     \n",
       "2009-12-31    7.611786    7.619643    7.520000    7.526072    6.492372   \n",
       "2010-01-04    7.622500    7.660714    7.585000    7.643214    6.593426   \n",
       "2010-01-05    7.664286    7.699643    7.616071    7.656428    6.604825   \n",
       "2010-01-06    7.656428    7.686786    7.526786    7.534643    6.499768   \n",
       "2010-01-07    7.562500    7.571429    7.466072    7.520714    6.487752   \n",
       "...                ...         ...         ...         ...         ...   \n",
       "2020-12-16  127.410004  128.369995  126.559998  127.809998  127.809998   \n",
       "2020-12-17  128.899994  129.580002  128.039993  128.699997  128.699997   \n",
       "2020-12-18  128.960007  129.100006  126.120003  126.660004  126.660004   \n",
       "2020-12-21  125.019997  128.309998  123.449997  128.229996  128.229996   \n",
       "2020-12-22  131.610001  134.410004  129.649994  131.880005  131.880005   \n",
       "\n",
       "               Volume  \n",
       "Date                   \n",
       "2009-12-31  352410800  \n",
       "2010-01-04  493729600  \n",
       "2010-01-05  601904800  \n",
       "2010-01-06  552160000  \n",
       "2010-01-07  477131200  \n",
       "...               ...  \n",
       "2020-12-16   98208600  \n",
       "2020-12-17   94359800  \n",
       "2020-12-18  192541500  \n",
       "2020-12-21  121251600  \n",
       "2020-12-22  168904800  \n",
       "\n",
       "[2764 rows x 6 columns]"
      ]
     },
     "execution_count": 22,
     "metadata": {},
     "output_type": "execute_result"
    }
   ],
   "source": [
    "data = yf.download('AAPL', start='2010-01-01', end='2020-12-23', progress=False)# progress de ko can hien dowload du lieu ve\n",
    "data"
   ]
  },
  {
   "cell_type": "code",
   "execution_count": 41,
   "metadata": {},
   "outputs": [
    {
     "data": {
      "text/plain": [
       "Date\n",
       "2009-12-31      7.526072\n",
       "2010-01-04      7.643214\n",
       "2010-01-05      7.656428\n",
       "2010-01-06      7.534643\n",
       "2010-01-07      7.520714\n",
       "                 ...    \n",
       "2020-12-16    127.809998\n",
       "2020-12-17    128.699997\n",
       "2020-12-18    126.660004\n",
       "2020-12-21    128.229996\n",
       "2020-12-22    131.880005\n",
       "Name: Close, Length: 2764, dtype: float64"
      ]
     },
     "execution_count": 41,
     "metadata": {},
     "output_type": "execute_result"
    }
   ],
   "source": [
    "apple_series = data.Close# cach goi ten cot 1\n",
    "apple_series"
   ]
  },
  {
   "cell_type": "code",
   "execution_count": 25,
   "metadata": {},
   "outputs": [
    {
     "data": {
      "text/plain": [
       "Date\n",
       "2009-12-31      6.492372\n",
       "2010-01-04      6.593426\n",
       "2010-01-05      6.604825\n",
       "2010-01-06      6.499768\n",
       "2010-01-07      6.487752\n",
       "                 ...    \n",
       "2020-12-16    127.809998\n",
       "2020-12-17    128.699997\n",
       "2020-12-18    126.660004\n",
       "2020-12-21    128.229996\n",
       "2020-12-22    131.880005\n",
       "Name: Adj Close, Length: 2764, dtype: float64"
      ]
     },
     "execution_count": 25,
     "metadata": {},
     "output_type": "execute_result"
    }
   ],
   "source": [
    "apple_series = data['Adj Close']# cach goi ten cot thu 2\n",
    "apple_series"
   ]
  },
  {
   "cell_type": "code",
   "execution_count": 30,
   "metadata": {},
   "outputs": [
    {
     "data": {
      "text/plain": [
       "2764"
      ]
     },
     "execution_count": 30,
     "metadata": {},
     "output_type": "execute_result"
    }
   ],
   "source": [
    "len(apple_series)"
   ]
  },
  {
   "cell_type": "code",
   "execution_count": 34,
   "metadata": {},
   "outputs": [
    {
     "data": {
      "text/plain": [
       "2764"
      ]
     },
     "execution_count": 34,
     "metadata": {},
     "output_type": "execute_result"
    }
   ],
   "source": [
    "apple_series.shape[0] # in ra kich thuoc cua data"
   ]
  },
  {
   "cell_type": "code",
   "execution_count": 35,
   "metadata": {},
   "outputs": [
    {
     "data": {
      "text/plain": [
       "count    2764.000000\n",
       "mean       33.551601\n",
       "std        24.156059\n",
       "min         6.858929\n",
       "25%        17.449553\n",
       "50%        26.935000\n",
       "75%        42.883749\n",
       "max       134.179993\n",
       "Name: Close, dtype: float64"
      ]
     },
     "execution_count": 35,
     "metadata": {},
     "output_type": "execute_result"
    }
   ],
   "source": [
    "apple_series.describe() # in ra thong ke du lieu"
   ]
  },
  {
   "cell_type": "code",
   "execution_count": 36,
   "metadata": {},
   "outputs": [
    {
     "data": {
      "text/plain": [
       "26.9350004196167"
      ]
     },
     "execution_count": 36,
     "metadata": {},
     "output_type": "execute_result"
    }
   ],
   "source": [
    "# mean: gia tri trung binh mo ta xu huong trung tam bo du lieu\n",
    "# min: gia tri nho nhat\n",
    "# max: gia tri lon nhat\n",
    "# std: do lech chuan la khoang cach trung binh den diem du lieu, do do phan tan cua bo data\n",
    "# 25%: gia tri nho thu 25 nghia la co 25% so diem du lieu nho hon 17.449553\n",
    "# 50%: gia tri nho thu 50 co ten goi la trung vi nghia la co 50% so diem du lieu nho hon 26.93500\n",
    "apple_series.median()"
   ]
  },
  {
   "cell_type": "code",
   "execution_count": 37,
   "metadata": {},
   "outputs": [
    {
     "data": {
      "text/plain": [
       "17.4495530128479"
      ]
     },
     "execution_count": 37,
     "metadata": {},
     "output_type": "execute_result"
    }
   ],
   "source": [
    "apple_series.quantile(0.25)"
   ]
  },
  {
   "cell_type": "code",
   "execution_count": 43,
   "metadata": {},
   "outputs": [
    {
     "data": {
      "text/plain": [
       "7.448621382713318"
      ]
     },
     "execution_count": 43,
     "metadata": {},
     "output_type": "execute_result"
    }
   ],
   "source": [
    "apple_series.quantile(0.01)"
   ]
  },
  {
   "cell_type": "markdown",
   "metadata": {},
   "source": [
    "## Normal distribution"
   ]
  },
  {
   "cell_type": "markdown",
   "metadata": {},
   "source": [
    "![Phan phoi](data:image/png;base64,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)\n"
   ]
  },
  {
   "cell_type": "markdown",
   "metadata": {},
   "source": [
    "*Predictive* du bao"
   ]
  },
  {
   "cell_type": "code",
   "execution_count": null,
   "metadata": {},
   "outputs": [],
   "source": [
    "# signiticant - level: co y nghia thong ke hay khong\n",
    "# confidence - level: do tin cay"
   ]
  },
  {
   "cell_type": "code",
   "execution_count": 50,
   "metadata": {},
   "outputs": [
    {
     "data": {
      "text/plain": [
       "Date\n",
       "2009-12-31    7.526072\n",
       "2010-01-04    7.643214\n",
       "2010-01-05    7.656428\n",
       "2010-01-06    7.534643\n",
       "2010-01-07    7.520714\n",
       "2010-01-08    7.570714\n",
       "2010-01-11    7.503929\n",
       "2010-01-12    7.418571\n",
       "2010-01-13    7.523214\n",
       "2010-01-14    7.479643\n",
       "Name: Close, dtype: float64"
      ]
     },
     "execution_count": 50,
     "metadata": {},
     "output_type": "execute_result"
    }
   ],
   "source": [
    "apple_series.head(10)# xem 10 dong dau"
   ]
  },
  {
   "cell_type": "code",
   "execution_count": 51,
   "metadata": {},
   "outputs": [
    {
     "data": {
      "text/plain": [
       "Date\n",
       "2020-12-09    121.779999\n",
       "2020-12-10    123.239998\n",
       "2020-12-11    122.410004\n",
       "2020-12-14    121.779999\n",
       "2020-12-15    127.879997\n",
       "2020-12-16    127.809998\n",
       "2020-12-17    128.699997\n",
       "2020-12-18    126.660004\n",
       "2020-12-21    128.229996\n",
       "2020-12-22    131.880005\n",
       "Name: Close, dtype: float64"
      ]
     },
     "execution_count": 51,
     "metadata": {},
     "output_type": "execute_result"
    }
   ],
   "source": [
    "apple_series.tail(10)# xem 10 dong cuoi"
   ]
  },
  {
   "cell_type": "code",
   "execution_count": 62,
   "metadata": {},
   "outputs": [
    {
     "data": {
      "text/plain": [
       "Date\n",
       "2009-12-31      7.526072\n",
       "2010-01-04      7.643214\n",
       "2010-01-05      7.656428\n",
       "2010-01-06      7.534643\n",
       "2010-01-07      7.520714\n",
       "                 ...    \n",
       "2020-12-16    127.809998\n",
       "2020-12-17    128.699997\n",
       "2020-12-18    126.660004\n",
       "2020-12-21    128.229996\n",
       "2020-12-22    131.880005\n",
       "Name: Close, Length: 2764, dtype: float64"
      ]
     },
     "execution_count": 62,
     "metadata": {},
     "output_type": "execute_result"
    }
   ],
   "source": [
    "apple_series.copy().sort_values(inplace=True)\n",
    "apple_series"
   ]
  },
  {
   "cell_type": "code",
   "execution_count": 61,
   "metadata": {},
   "outputs": [
    {
     "ename": "ValueError",
     "evalue": "This Series is a view of some other array, to sort in-place you must create a copy",
     "output_type": "error",
     "traceback": [
      "\u001b[1;31m---------------------------------------------------------------------------\u001b[0m",
      "\u001b[1;31mValueError\u001b[0m                                Traceback (most recent call last)",
      "\u001b[1;32m<ipython-input-61-3b44651fe4f9>\u001b[0m in \u001b[0;36m<module>\u001b[1;34m\u001b[0m\n\u001b[1;32m----> 1\u001b[1;33m \u001b[0mapple_series\u001b[0m\u001b[1;33m.\u001b[0m\u001b[0msort_values\u001b[0m\u001b[1;33m(\u001b[0m\u001b[0minplace\u001b[0m\u001b[1;33m=\u001b[0m\u001b[1;32mTrue\u001b[0m\u001b[1;33m)\u001b[0m\u001b[1;33m\u001b[0m\u001b[1;33m\u001b[0m\u001b[0m\n\u001b[0m",
      "\u001b[1;32m~\\Anaconda3\\envs\\hoang\\lib\\site-packages\\pandas\\core\\series.py\u001b[0m in \u001b[0;36msort_values\u001b[1;34m(self, axis, ascending, inplace, kind, na_position, ignore_index, key)\u001b[0m\n\u001b[0;32m   3234\u001b[0m         \u001b[1;32mif\u001b[0m \u001b[0minplace\u001b[0m \u001b[1;32mand\u001b[0m \u001b[0mself\u001b[0m\u001b[1;33m.\u001b[0m\u001b[0m_is_cached\u001b[0m\u001b[1;33m:\u001b[0m\u001b[1;33m\u001b[0m\u001b[1;33m\u001b[0m\u001b[0m\n\u001b[0;32m   3235\u001b[0m             raise ValueError(\n\u001b[1;32m-> 3236\u001b[1;33m                 \u001b[1;34m\"This Series is a view of some other array, to \"\u001b[0m\u001b[1;33m\u001b[0m\u001b[1;33m\u001b[0m\u001b[0m\n\u001b[0m\u001b[0;32m   3237\u001b[0m                 \u001b[1;34m\"sort in-place you must create a copy\"\u001b[0m\u001b[1;33m\u001b[0m\u001b[1;33m\u001b[0m\u001b[0m\n\u001b[0;32m   3238\u001b[0m             )\n",
      "\u001b[1;31mValueError\u001b[0m: This Series is a view of some other array, to sort in-place you must create a copy"
     ]
    }
   ],
   "source": [
    "apple_series.sort_values(inplace=True)"
   ]
  },
  {
   "cell_type": "code",
   "execution_count": 53,
   "metadata": {},
   "outputs": [
    {
     "data": {
      "text/plain": [
       "Date\n",
       "2020-09-01    134.179993\n",
       "2020-12-22    131.880005\n",
       "2020-09-02    131.399994\n",
       "2020-08-31    129.039993\n",
       "2020-12-17    128.699997\n",
       "                 ...    \n",
       "2010-02-10      6.968572\n",
       "2010-02-01      6.954643\n",
       "2010-02-08      6.932857\n",
       "2010-01-29      6.859286\n",
       "2010-02-04      6.858929\n",
       "Name: Close, Length: 2764, dtype: float64"
      ]
     },
     "execution_count": 53,
     "metadata": {},
     "output_type": "execute_result"
    }
   ],
   "source": [
    "apple_series.sort_values(ascending=False)# sap xep du lieu"
   ]
  },
  {
   "cell_type": "code",
   "execution_count": null,
   "metadata": {},
   "outputs": [],
   "source": [
    "# Ham series goi duoc thi pandas goi duoc nung ham pandas goi thi chua chac series goi duoc"
   ]
  },
  {
   "cell_type": "markdown",
   "metadata": {},
   "source": [
    "## Slicing\n",
    "- loc: index label, column label\n",
    "- iloc: index position, column position"
   ]
  },
  {
   "cell_type": "code",
   "execution_count": 54,
   "metadata": {},
   "outputs": [
    {
     "data": {
      "text/plain": [
       "Date\n",
       "2009-12-31      7.526072\n",
       "2010-01-04      7.643214\n",
       "2010-01-05      7.656428\n",
       "2010-01-06      7.534643\n",
       "2010-01-07      7.520714\n",
       "                 ...    \n",
       "2020-12-16    127.809998\n",
       "2020-12-17    128.699997\n",
       "2020-12-18    126.660004\n",
       "2020-12-21    128.229996\n",
       "2020-12-22    131.880005\n",
       "Name: Close, Length: 2764, dtype: float64"
      ]
     },
     "execution_count": 54,
     "metadata": {},
     "output_type": "execute_result"
    }
   ],
   "source": [
    "apple_series"
   ]
  },
  {
   "cell_type": "code",
   "execution_count": 55,
   "metadata": {},
   "outputs": [
    {
     "data": {
      "text/plain": [
       "7.656428337097168"
      ]
     },
     "execution_count": 55,
     "metadata": {},
     "output_type": "execute_result"
    }
   ],
   "source": [
    "apple_series.loc['2010-01-05']"
   ]
  },
  {
   "cell_type": "code",
   "execution_count": 56,
   "metadata": {},
   "outputs": [
    {
     "data": {
      "text/plain": [
       "7.656428337097168"
      ]
     },
     "execution_count": 56,
     "metadata": {},
     "output_type": "execute_result"
    }
   ],
   "source": [
    "apple_series.iloc[2]"
   ]
  },
  {
   "cell_type": "code",
   "execution_count": 57,
   "metadata": {},
   "outputs": [
    {
     "data": {
      "text/plain": [
       "Date\n",
       "2010-01-07    7.520714\n",
       "2010-01-08    7.570714\n",
       "2010-01-11    7.503929\n",
       "2010-01-12    7.418571\n",
       "2010-01-13    7.523214\n",
       "2010-01-14    7.479643\n",
       "2010-01-15    7.354643\n",
       "2010-01-19    7.680000\n",
       "2010-01-20    7.561786\n",
       "Name: Close, dtype: float64"
      ]
     },
     "execution_count": 57,
     "metadata": {},
     "output_type": "execute_result"
    }
   ],
   "source": [
    "apple_series.loc['2010-01-07':'2010-01-20']"
   ]
  },
  {
   "cell_type": "code",
   "execution_count": 59,
   "metadata": {},
   "outputs": [
    {
     "data": {
      "text/plain": [
       "Date\n",
       "2010-01-07    7.520714\n",
       "2010-01-08    7.570714\n",
       "2010-01-11    7.503929\n",
       "2010-01-12    7.418571\n",
       "2010-01-13    7.523214\n",
       "2010-01-14    7.479643\n",
       "2010-01-15    7.354643\n",
       "2010-01-19    7.680000\n",
       "2010-01-20    7.561786\n",
       "Name: Close, dtype: float64"
      ]
     },
     "execution_count": 59,
     "metadata": {},
     "output_type": "execute_result"
    }
   ],
   "source": [
    "apple_series.iloc[4:13]# chon khoang se bi exculsive gia tri cuoi"
   ]
  },
  {
   "cell_type": "code",
   "execution_count": 60,
   "metadata": {},
   "outputs": [
    {
     "data": {
      "text/plain": [
       "Date\n",
       "2010-01-11    7.503929\n",
       "2010-01-20    7.561786\n",
       "Name: Close, dtype: float64"
      ]
     },
     "execution_count": 60,
     "metadata": {},
     "output_type": "execute_result"
    }
   ],
   "source": [
    "apple_series.loc[['2010-01-11', '2010-01-20']] # lay gia tri rieng le"
   ]
  },
  {
   "cell_type": "markdown",
   "metadata": {},
   "source": [
    "## Dataframe"
   ]
  },
  {
   "cell_type": "code",
   "execution_count": 67,
   "metadata": {},
   "outputs": [],
   "source": [
    "df = pd.DataFrame({'name': ['Truong', 'An', 'Hoang'],\n",
    "             'age': [10,21,22],\n",
    "             'hometown': ['DT', 'NT', 'HN']})"
   ]
  },
  {
   "cell_type": "code",
   "execution_count": 70,
   "metadata": {},
   "outputs": [],
   "source": [
    "df.set_index('name', inplace=True)"
   ]
  },
  {
   "cell_type": "code",
   "execution_count": 69,
   "metadata": {},
   "outputs": [
    {
     "data": {
      "text/html": [
       "<div>\n",
       "<style scoped>\n",
       "    .dataframe tbody tr th:only-of-type {\n",
       "        vertical-align: middle;\n",
       "    }\n",
       "\n",
       "    .dataframe tbody tr th {\n",
       "        vertical-align: top;\n",
       "    }\n",
       "\n",
       "    .dataframe thead th {\n",
       "        text-align: right;\n",
       "    }\n",
       "</style>\n",
       "<table border=\"1\" class=\"dataframe\">\n",
       "  <thead>\n",
       "    <tr style=\"text-align: right;\">\n",
       "      <th></th>\n",
       "      <th>name</th>\n",
       "      <th>age</th>\n",
       "      <th>hometown</th>\n",
       "    </tr>\n",
       "  </thead>\n",
       "  <tbody>\n",
       "    <tr>\n",
       "      <th>0</th>\n",
       "      <td>Truong</td>\n",
       "      <td>10</td>\n",
       "      <td>DT</td>\n",
       "    </tr>\n",
       "    <tr>\n",
       "      <th>1</th>\n",
       "      <td>An</td>\n",
       "      <td>21</td>\n",
       "      <td>NT</td>\n",
       "    </tr>\n",
       "    <tr>\n",
       "      <th>2</th>\n",
       "      <td>Hoang</td>\n",
       "      <td>22</td>\n",
       "      <td>HN</td>\n",
       "    </tr>\n",
       "  </tbody>\n",
       "</table>\n",
       "</div>"
      ],
      "text/plain": [
       "     name  age hometown\n",
       "0  Truong   10       DT\n",
       "1      An   21       NT\n",
       "2   Hoang   22       HN"
      ]
     },
     "execution_count": 69,
     "metadata": {},
     "output_type": "execute_result"
    }
   ],
   "source": [
    "df\n"
   ]
  },
  {
   "cell_type": "code",
   "execution_count": 71,
   "metadata": {},
   "outputs": [],
   "source": [
    "df_2 = pd.DataFrame([['Truong', 'An', 'Hoang'], [10,21,22],  ['DT', 'NT', 'HN']])"
   ]
  },
  {
   "cell_type": "code",
   "execution_count": 72,
   "metadata": {},
   "outputs": [
    {
     "data": {
      "text/html": [
       "<div>\n",
       "<style scoped>\n",
       "    .dataframe tbody tr th:only-of-type {\n",
       "        vertical-align: middle;\n",
       "    }\n",
       "\n",
       "    .dataframe tbody tr th {\n",
       "        vertical-align: top;\n",
       "    }\n",
       "\n",
       "    .dataframe thead th {\n",
       "        text-align: right;\n",
       "    }\n",
       "</style>\n",
       "<table border=\"1\" class=\"dataframe\">\n",
       "  <thead>\n",
       "    <tr style=\"text-align: right;\">\n",
       "      <th></th>\n",
       "      <th>0</th>\n",
       "      <th>1</th>\n",
       "      <th>2</th>\n",
       "    </tr>\n",
       "  </thead>\n",
       "  <tbody>\n",
       "    <tr>\n",
       "      <th>0</th>\n",
       "      <td>Truong</td>\n",
       "      <td>An</td>\n",
       "      <td>Hoang</td>\n",
       "    </tr>\n",
       "    <tr>\n",
       "      <th>1</th>\n",
       "      <td>10</td>\n",
       "      <td>21</td>\n",
       "      <td>22</td>\n",
       "    </tr>\n",
       "    <tr>\n",
       "      <th>2</th>\n",
       "      <td>DT</td>\n",
       "      <td>NT</td>\n",
       "      <td>HN</td>\n",
       "    </tr>\n",
       "  </tbody>\n",
       "</table>\n",
       "</div>"
      ],
      "text/plain": [
       "        0   1      2\n",
       "0  Truong  An  Hoang\n",
       "1      10  21     22\n",
       "2      DT  NT     HN"
      ]
     },
     "execution_count": 72,
     "metadata": {},
     "output_type": "execute_result"
    }
   ],
   "source": [
    "df_2"
   ]
  },
  {
   "cell_type": "code",
   "execution_count": 73,
   "metadata": {},
   "outputs": [],
   "source": [
    "import numpy as np"
   ]
  },
  {
   "cell_type": "code",
   "execution_count": 76,
   "metadata": {},
   "outputs": [
    {
     "ename": "SyntaxError",
     "evalue": "invalid syntax (<ipython-input-76-b10fe58c9d9c>, line 1)",
     "output_type": "error",
     "traceback": [
      "\u001b[1;36m  File \u001b[1;32m\"<ipython-input-76-b10fe58c9d9c>\"\u001b[1;36m, line \u001b[1;32m1\u001b[0m\n\u001b[1;33m    np.array([['Truong', 'An', 'Hoang'],  ['DT', 'NT', 'HN'][])\u001b[0m\n\u001b[1;37m                                                             ^\u001b[0m\n\u001b[1;31mSyntaxError\u001b[0m\u001b[1;31m:\u001b[0m invalid syntax\n"
     ]
    }
   ],
   "source": [
    "np.array([['Truong', 'An', 'Hoang'],  ['DT', 'NT', 'HN'][])"
   ]
  },
  {
   "cell_type": "code",
   "execution_count": null,
   "metadata": {},
   "outputs": [],
   "source": []
  }
 ],
 "metadata": {
  "kernelspec": {
   "display_name": "Python 3",
   "language": "python",
   "name": "python3"
  },
  "language_info": {
   "codemirror_mode": {
    "name": "ipython",
    "version": 3
   },
   "file_extension": ".py",
   "mimetype": "text/x-python",
   "name": "python",
   "nbconvert_exporter": "python",
   "pygments_lexer": "ipython3",
   "version": "3.6.7"
  }
 },
 "nbformat": 4,
 "nbformat_minor": 4
}
