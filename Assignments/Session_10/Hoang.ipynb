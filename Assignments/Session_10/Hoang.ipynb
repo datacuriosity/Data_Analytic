{
 "cells": [
  {
   "cell_type": "code",
   "execution_count": 5,
   "metadata": {},
   "outputs": [],
   "source": [
    "def show_stars(rows):\n",
    "    for i in range(1, rows+1):\n",
    "        print('*'*i)\n",
    "    "
   ]
  },
  {
   "cell_type": "code",
   "execution_count": 6,
   "metadata": {},
   "outputs": [
    {
     "name": "stdout",
     "output_type": "stream",
     "text": [
      "*\n",
      "**\n",
      "***\n",
      "****\n",
      "*****\n"
     ]
    }
   ],
   "source": [
    "rows=5\n",
    "show_stars(rows)"
   ]
  },
  {
   "cell_type": "code",
   "execution_count": 1,
   "metadata": {},
   "outputs": [],
   "source": [
    "import numpy as np\n",
    "import pandas as pd\n",
    "import matplotlib.pyplot as plt\n",
    "import seaborn as sns\n",
    "from glob import glob"
   ]
  },
  {
   "cell_type": "code",
   "execution_count": 30,
   "metadata": {},
   "outputs": [
    {
     "data": {
      "text/html": [
       "<div>\n",
       "<style scoped>\n",
       "    .dataframe tbody tr th:only-of-type {\n",
       "        vertical-align: middle;\n",
       "    }\n",
       "\n",
       "    .dataframe tbody tr th {\n",
       "        vertical-align: top;\n",
       "    }\n",
       "\n",
       "    .dataframe thead th {\n",
       "        text-align: right;\n",
       "    }\n",
       "</style>\n",
       "<table border=\"1\" class=\"dataframe\">\n",
       "  <thead>\n",
       "    <tr style=\"text-align: right;\">\n",
       "      <th></th>\n",
       "      <th>name</th>\n",
       "      <th>gender</th>\n",
       "      <th>occurence</th>\n",
       "      <th>year</th>\n",
       "    </tr>\n",
       "  </thead>\n",
       "  <tbody>\n",
       "    <tr>\n",
       "      <th>0</th>\n",
       "      <td>Mary</td>\n",
       "      <td>F</td>\n",
       "      <td>7065</td>\n",
       "      <td>1880</td>\n",
       "    </tr>\n",
       "    <tr>\n",
       "      <th>1</th>\n",
       "      <td>Anna</td>\n",
       "      <td>F</td>\n",
       "      <td>2604</td>\n",
       "      <td>1880</td>\n",
       "    </tr>\n",
       "    <tr>\n",
       "      <th>2</th>\n",
       "      <td>Emma</td>\n",
       "      <td>F</td>\n",
       "      <td>2003</td>\n",
       "      <td>1880</td>\n",
       "    </tr>\n",
       "    <tr>\n",
       "      <th>3</th>\n",
       "      <td>Elizabeth</td>\n",
       "      <td>F</td>\n",
       "      <td>1939</td>\n",
       "      <td>1880</td>\n",
       "    </tr>\n",
       "    <tr>\n",
       "      <th>4</th>\n",
       "      <td>Minnie</td>\n",
       "      <td>F</td>\n",
       "      <td>1746</td>\n",
       "      <td>1880</td>\n",
       "    </tr>\n",
       "  </tbody>\n",
       "</table>\n",
       "</div>"
      ],
      "text/plain": [
       "        name gender  occurence  year\n",
       "0       Mary      F       7065  1880\n",
       "1       Anna      F       2604  1880\n",
       "2       Emma      F       2003  1880\n",
       "3  Elizabeth      F       1939  1880\n",
       "4     Minnie      F       1746  1880"
      ]
     },
     "execution_count": 30,
     "metadata": {},
     "output_type": "execute_result"
    }
   ],
   "source": [
    "paths = glob('Names/Names/*.txt')\n",
    "li = []\n",
    "for path in paths:\n",
    "    df = pd.read_csv(path, names=['name', 'gender', 'occurence'])\n",
    "    df['year'] = path[-8:-4]\n",
    "    li.append(df)\n",
    "df = pd.concat(li)\n",
    "df.head(5)\n"
   ]
  },
  {
   "cell_type": "code",
   "execution_count": 21,
   "metadata": {},
   "outputs": [
    {
     "data": {
      "text/plain": [
       "['Names/Names\\\\yob1880.txt',\n",
       " 'Names/Names\\\\yob1881.txt',\n",
       " 'Names/Names\\\\yob1882.txt',\n",
       " 'Names/Names\\\\yob1883.txt',\n",
       " 'Names/Names\\\\yob1884.txt',\n",
       " 'Names/Names\\\\yob1885.txt',\n",
       " 'Names/Names\\\\yob1886.txt',\n",
       " 'Names/Names\\\\yob1887.txt',\n",
       " 'Names/Names\\\\yob1888.txt',\n",
       " 'Names/Names\\\\yob1889.txt',\n",
       " 'Names/Names\\\\yob1890.txt',\n",
       " 'Names/Names\\\\yob1891.txt',\n",
       " 'Names/Names\\\\yob1892.txt',\n",
       " 'Names/Names\\\\yob1893.txt',\n",
       " 'Names/Names\\\\yob1894.txt',\n",
       " 'Names/Names\\\\yob1895.txt',\n",
       " 'Names/Names\\\\yob1896.txt',\n",
       " 'Names/Names\\\\yob1897.txt',\n",
       " 'Names/Names\\\\yob1898.txt',\n",
       " 'Names/Names\\\\yob1899.txt',\n",
       " 'Names/Names\\\\yob1900.txt',\n",
       " 'Names/Names\\\\yob1901.txt',\n",
       " 'Names/Names\\\\yob1902.txt',\n",
       " 'Names/Names\\\\yob1903.txt',\n",
       " 'Names/Names\\\\yob1904.txt',\n",
       " 'Names/Names\\\\yob1905.txt',\n",
       " 'Names/Names\\\\yob1906.txt',\n",
       " 'Names/Names\\\\yob1907.txt',\n",
       " 'Names/Names\\\\yob1908.txt',\n",
       " 'Names/Names\\\\yob1909.txt',\n",
       " 'Names/Names\\\\yob1910.txt',\n",
       " 'Names/Names\\\\yob1911.txt',\n",
       " 'Names/Names\\\\yob1912.txt',\n",
       " 'Names/Names\\\\yob1913.txt',\n",
       " 'Names/Names\\\\yob1914.txt',\n",
       " 'Names/Names\\\\yob1915.txt',\n",
       " 'Names/Names\\\\yob1916.txt',\n",
       " 'Names/Names\\\\yob1917.txt',\n",
       " 'Names/Names\\\\yob1918.txt',\n",
       " 'Names/Names\\\\yob1919.txt',\n",
       " 'Names/Names\\\\yob1920.txt',\n",
       " 'Names/Names\\\\yob1921.txt',\n",
       " 'Names/Names\\\\yob1922.txt',\n",
       " 'Names/Names\\\\yob1923.txt',\n",
       " 'Names/Names\\\\yob1924.txt',\n",
       " 'Names/Names\\\\yob1925.txt',\n",
       " 'Names/Names\\\\yob1926.txt',\n",
       " 'Names/Names\\\\yob1927.txt',\n",
       " 'Names/Names\\\\yob1928.txt',\n",
       " 'Names/Names\\\\yob1929.txt',\n",
       " 'Names/Names\\\\yob1930.txt',\n",
       " 'Names/Names\\\\yob1931.txt',\n",
       " 'Names/Names\\\\yob1932.txt',\n",
       " 'Names/Names\\\\yob1933.txt',\n",
       " 'Names/Names\\\\yob1934.txt',\n",
       " 'Names/Names\\\\yob1935.txt',\n",
       " 'Names/Names\\\\yob1936.txt',\n",
       " 'Names/Names\\\\yob1937.txt',\n",
       " 'Names/Names\\\\yob1938.txt',\n",
       " 'Names/Names\\\\yob1939.txt',\n",
       " 'Names/Names\\\\yob1940.txt',\n",
       " 'Names/Names\\\\yob1941.txt',\n",
       " 'Names/Names\\\\yob1942.txt',\n",
       " 'Names/Names\\\\yob1943.txt',\n",
       " 'Names/Names\\\\yob1944.txt',\n",
       " 'Names/Names\\\\yob1945.txt',\n",
       " 'Names/Names\\\\yob1946.txt',\n",
       " 'Names/Names\\\\yob1947.txt',\n",
       " 'Names/Names\\\\yob1948.txt',\n",
       " 'Names/Names\\\\yob1949.txt',\n",
       " 'Names/Names\\\\yob1950.txt',\n",
       " 'Names/Names\\\\yob1951.txt',\n",
       " 'Names/Names\\\\yob1952.txt',\n",
       " 'Names/Names\\\\yob1953.txt',\n",
       " 'Names/Names\\\\yob1954.txt',\n",
       " 'Names/Names\\\\yob1955.txt',\n",
       " 'Names/Names\\\\yob1956.txt',\n",
       " 'Names/Names\\\\yob1957.txt',\n",
       " 'Names/Names\\\\yob1958.txt',\n",
       " 'Names/Names\\\\yob1959.txt',\n",
       " 'Names/Names\\\\yob1960.txt',\n",
       " 'Names/Names\\\\yob1961.txt',\n",
       " 'Names/Names\\\\yob1962.txt',\n",
       " 'Names/Names\\\\yob1963.txt',\n",
       " 'Names/Names\\\\yob1964.txt',\n",
       " 'Names/Names\\\\yob1965.txt',\n",
       " 'Names/Names\\\\yob1966.txt',\n",
       " 'Names/Names\\\\yob1967.txt',\n",
       " 'Names/Names\\\\yob1968.txt',\n",
       " 'Names/Names\\\\yob1969.txt',\n",
       " 'Names/Names\\\\yob1970.txt',\n",
       " 'Names/Names\\\\yob1971.txt',\n",
       " 'Names/Names\\\\yob1972.txt',\n",
       " 'Names/Names\\\\yob1973.txt',\n",
       " 'Names/Names\\\\yob1974.txt',\n",
       " 'Names/Names\\\\yob1975.txt',\n",
       " 'Names/Names\\\\yob1976.txt',\n",
       " 'Names/Names\\\\yob1977.txt',\n",
       " 'Names/Names\\\\yob1978.txt',\n",
       " 'Names/Names\\\\yob1979.txt',\n",
       " 'Names/Names\\\\yob1980.txt',\n",
       " 'Names/Names\\\\yob1981.txt',\n",
       " 'Names/Names\\\\yob1982.txt',\n",
       " 'Names/Names\\\\yob1983.txt',\n",
       " 'Names/Names\\\\yob1984.txt',\n",
       " 'Names/Names\\\\yob1985.txt',\n",
       " 'Names/Names\\\\yob1986.txt',\n",
       " 'Names/Names\\\\yob1987.txt',\n",
       " 'Names/Names\\\\yob1988.txt',\n",
       " 'Names/Names\\\\yob1989.txt',\n",
       " 'Names/Names\\\\yob1990.txt',\n",
       " 'Names/Names\\\\yob1991.txt',\n",
       " 'Names/Names\\\\yob1992.txt',\n",
       " 'Names/Names\\\\yob1993.txt',\n",
       " 'Names/Names\\\\yob1994.txt',\n",
       " 'Names/Names\\\\yob1995.txt',\n",
       " 'Names/Names\\\\yob1996.txt',\n",
       " 'Names/Names\\\\yob1997.txt',\n",
       " 'Names/Names\\\\yob1998.txt',\n",
       " 'Names/Names\\\\yob1999.txt',\n",
       " 'Names/Names\\\\yob2000.txt',\n",
       " 'Names/Names\\\\yob2001.txt',\n",
       " 'Names/Names\\\\yob2002.txt',\n",
       " 'Names/Names\\\\yob2003.txt',\n",
       " 'Names/Names\\\\yob2004.txt',\n",
       " 'Names/Names\\\\yob2005.txt',\n",
       " 'Names/Names\\\\yob2006.txt',\n",
       " 'Names/Names\\\\yob2007.txt',\n",
       " 'Names/Names\\\\yob2008.txt',\n",
       " 'Names/Names\\\\yob2009.txt',\n",
       " 'Names/Names\\\\yob2010.txt',\n",
       " 'Names/Names\\\\yob2011.txt',\n",
       " 'Names/Names\\\\yob2012.txt',\n",
       " 'Names/Names\\\\yob2013.txt',\n",
       " 'Names/Names\\\\yob2014.txt',\n",
       " 'Names/Names\\\\yob2015.txt',\n",
       " 'Names/Names\\\\yob2016.txt',\n",
       " 'Names/Names\\\\yob2017.txt',\n",
       " 'Names/Names\\\\yob2018.txt']"
      ]
     },
     "execution_count": 21,
     "metadata": {},
     "output_type": "execute_result"
    }
   ],
   "source": [
    "glob('Names/Names/*.txt')"
   ]
  },
  {
   "cell_type": "code",
   "execution_count": 4,
   "metadata": {},
   "outputs": [],
   "source": [
    "def elavator_climbing():\n",
    "    floor = 0\n",
    "    for _ in range(100):\n",
    "        dice = np.random.randint(1,7,1)[0]\n",
    "        if dice in [1,2]:\n",
    "            dice-=1\n",
    "            floor = max(floor,0)\n",
    "        elif dice in [3, 4, 5]:\n",
    "            dice+=1\n",
    "        else:\n",
    "            dice = np.random.randint(1,7,size=1)[0]\n",
    "            floor += dice\n",
    "        if np.random.rand(1)[0] <= 0.001:\n",
    "            floor = 0\n",
    "    return floor >= 60\n",
    "\n",
    "    "
   ]
  },
  {
   "cell_type": "code",
   "execution_count": 5,
   "metadata": {},
   "outputs": [
    {
     "data": {
      "text/plain": [
       "False"
      ]
     },
     "execution_count": 5,
     "metadata": {},
     "output_type": "execute_result"
    }
   ],
   "source": [
    "elavator_climbing()"
   ]
  },
  {
   "cell_type": "code",
   "execution_count": 11,
   "metadata": {},
   "outputs": [],
   "source": [
    "n_plays = 10000\n",
    "wining_li = []\n",
    "for _ in range(n_plays):\n",
    "    wining_li.append(elavator_climbing())"
   ]
  },
  {
   "cell_type": "code",
   "execution_count": 60,
   "metadata": {},
   "outputs": [],
   "source": [
    "#wining_li"
   ]
  },
  {
   "cell_type": "code",
   "execution_count": 12,
   "metadata": {},
   "outputs": [
    {
     "data": {
      "text/plain": [
       "41.92"
      ]
     },
     "execution_count": 12,
     "metadata": {},
     "output_type": "execute_result"
    }
   ],
   "source": [
    "sum(wining_li) / n_plays * 100"
   ]
  },
  {
   "cell_type": "code",
   "execution_count": 13,
   "metadata": {},
   "outputs": [
    {
     "data": {
      "text/plain": [
       "5"
      ]
     },
     "execution_count": 13,
     "metadata": {},
     "output_type": "execute_result"
    }
   ],
   "source": [
    "dice = np.random.randint(1,7,1)[0]\n",
    "dice"
   ]
  },
  {
   "cell_type": "code",
   "execution_count": 14,
   "metadata": {},
   "outputs": [
    {
     "data": {
      "text/plain": [
       "0.05638129200783668"
      ]
     },
     "execution_count": 14,
     "metadata": {},
     "output_type": "execute_result"
    }
   ],
   "source": [
    "dice = np.random.randn(1)[0]\n",
    "dice"
   ]
  },
  {
   "cell_type": "code",
   "execution_count": null,
   "metadata": {},
   "outputs": [],
   "source": []
  }
 ],
 "metadata": {
  "kernelspec": {
   "display_name": "Python 3",
   "language": "python",
   "name": "python3"
  },
  "language_info": {
   "codemirror_mode": {
    "name": "ipython",
    "version": 3
   },
   "file_extension": ".py",
   "mimetype": "text/x-python",
   "name": "python",
   "nbconvert_exporter": "python",
   "pygments_lexer": "ipython3",
   "version": "3.6.7"
  }
 },
 "nbformat": 4,
 "nbformat_minor": 4
}
